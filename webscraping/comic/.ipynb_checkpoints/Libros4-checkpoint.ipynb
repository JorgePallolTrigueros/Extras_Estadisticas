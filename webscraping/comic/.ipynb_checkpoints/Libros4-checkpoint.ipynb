{
 "cells": [
  {
   "cell_type": "code",
   "execution_count": 4,
   "id": "1de4587e-c549-4188-90c8-12fc09b9cffb",
   "metadata": {
    "tags": []
   },
   "outputs": [
    {
     "name": "stdout",
     "output_type": "stream",
     "text": [
      "Conectado correctamente\n",
      "CONTINUEEEEEEEEEEEEEEEE\n"
     ]
    },
    {
     "ename": "NameError",
     "evalue": "name 'driver' is not defined",
     "output_type": "error",
     "traceback": [
      "\u001b[1;31m---------------------------------------------------------------------------\u001b[0m",
      "\u001b[1;31mNameError\u001b[0m                                 Traceback (most recent call last)",
      "Cell \u001b[1;32mIn[4], line 39\u001b[0m\n\u001b[0;32m     35\u001b[0m df \u001b[38;5;241m=\u001b[39m pd\u001b[38;5;241m.\u001b[39mDataFrame()\n\u001b[0;32m     37\u001b[0m \u001b[38;5;28;01mfor\u001b[39;00m libro \u001b[38;5;129;01min\u001b[39;00m librosPrueba:\n\u001b[1;32m---> 39\u001b[0m     driver\u001b[38;5;241m.\u001b[39mget(url)\n\u001b[0;32m     40\u001b[0m     time\u001b[38;5;241m.\u001b[39msleep(\u001b[38;5;241m5\u001b[39m)\n\u001b[0;32m     41\u001b[0m     element\u001b[38;5;241m=\u001b[39mdriver\u001b[38;5;241m.\u001b[39mfind_element(By\u001b[38;5;241m.\u001b[39mID,\u001b[38;5;124m\"\u001b[39m\u001b[38;5;124mbusqueda\u001b[39m\u001b[38;5;124m\"\u001b[39m)\n",
      "\u001b[1;31mNameError\u001b[0m: name 'driver' is not defined"
     ]
    }
   ],
   "source": [
    "import numpy as np\n",
    "import pandas as pd\n",
    "import requests\n",
    "from bs4 import BeautifulSoup\n",
    "from time import sleep\n",
    "from selenium import webdriver\n",
    "from selenium.webdriver.chrome.service import Service\n",
    "from selenium.webdriver.common.keys import Keys\n",
    "from selenium.webdriver.common.by import By\n",
    "from time import sleep\n",
    "import pymysql\n",
    "import time \n",
    "\n",
    "\n",
    "s = Service('C:/chromedriver.exe')\n",
    "driver = webdriver.Chrome(service=s)\n",
    "url = \"https://www.todostuslibros.com\"\n",
    "driver.get(url)\n",
    "\n",
    "\n",
    "try:\n",
    "    connection = pymysql.connect(host='localhost',user='root',password='Kojinanjo1@',db='pelis')\n",
    "    print(\"Conectado correctamente\")\n",
    "except pymysql.Error as e:\n",
    "    print(\"No puede conectar con MySQL %d: %s\" %(e.args[0], e.args[1]))\n",
    "\n",
    "cursor = connection.cursor()\n",
    "\n",
    "print(\"CONTINUEEEEEEEEEEEEEEEE\")\n",
    "\n",
    "\n",
    "\n",
    "titulo = []\n",
    "autor = []\n",
    "imagen = []\n",
    "sinopsis = []\n",
    "\n",
    "\n",
    "librosPrueba =[\"Origins - The Art of John Jude Palencar\",\"Orwell - Christin & Verdier\",\"Paco Roca - Los surcos del azar\",\"Palepoli\",\"Para Toda la Vida\",\"Tatuaje\",\"Piel de hombre\",\"Piel de Mil Bestias \",\"Pierres Rouges\",\"Posy Simmonds \",\"PRESAS F\\u00c1CILES  \",\"Puesta en marcha\",\"Les mers du Sud \",\"P\\u00e9riodique Pf\",\"Que alguien se acueste conmigo, por favor \",\"Que caiga el que deba\",\"Querida diablilla\",\"Rios de Londres \",\"Rapaces\",\"Regreso a Volver al Futuro \",\"Relatos del Gran Libro de John Lehti\",\"revista pulgarcito\",\"Reyerta en la Feria\",\"Sam Pezzo\",\"Scandalo!\",\"Selecciones V\\u00e9rtice\",\"All\\u00ed donde van nuestros padres\",\"SHAZAM!\"]; \n",
    "\n",
    "libros_no_encontrados= list()\n",
    "df = pd.DataFrame()\n",
    "\n",
    "for libro in librosPrueba:\n",
    "    \n",
    "    driver.get(url)\n",
    "    time.sleep(5)\n",
    "    element=driver.find_element(By.ID,\"main-search-input\")\n",
    "    element.send_keys(libro)\n",
    "    element.send_keys(Keys.ENTER)  \n",
    "    time.sleep(5)\n",
    "\n",
    "\n",
    "\n",
    "\n",
    "\n",
    "\n"
   ]
  },
  {
   "cell_type": "code",
   "execution_count": null,
   "id": "d5fb7244-a96a-4451-a629-175bd8782e72",
   "metadata": {},
   "outputs": [],
   "source": []
  },
  {
   "cell_type": "code",
   "execution_count": null,
   "id": "6eef1d2b-3244-4b54-a720-ace33a20c07b",
   "metadata": {},
   "outputs": [],
   "source": []
  }
 ],
 "metadata": {
  "kernelspec": {
   "display_name": "Python 3 (ipykernel)",
   "language": "python",
   "name": "python3"
  },
  "language_info": {
   "codemirror_mode": {
    "name": "ipython",
    "version": 3
   },
   "file_extension": ".py",
   "mimetype": "text/x-python",
   "name": "python",
   "nbconvert_exporter": "python",
   "pygments_lexer": "ipython3",
   "version": "3.11.3"
  }
 },
 "nbformat": 4,
 "nbformat_minor": 5
}
