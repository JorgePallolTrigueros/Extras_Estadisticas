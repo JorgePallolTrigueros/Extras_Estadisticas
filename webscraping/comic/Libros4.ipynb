{
 "cells": [
  {
   "cell_type": "code",
   "execution_count": 5,
   "id": "1de4587e-c549-4188-90c8-12fc09b9cffb",
   "metadata": {
    "tags": []
   },
   "outputs": [
    {
     "name": "stdout",
     "output_type": "stream",
     "text": [
      "Conectado correctamente\n",
      "CONTINUEEEEEEEEEEEEEEEE\n"
     ]
    },
    {
     "ename": "NoSuchWindowException",
     "evalue": "Message: no such window: target window already closed\nfrom unknown error: web view not found\n  (Session info: chrome=116.0.5845.188)\nStacktrace:\n\tGetHandleVerifier [0x00007FF7376C52A2+57122]\n\t(No symbol) [0x00007FF73763EA92]\n\t(No symbol) [0x00007FF73750E3AB]\n\t(No symbol) [0x00007FF7374EE1B9]\n\t(No symbol) [0x00007FF73756B417]\n\t(No symbol) [0x00007FF73757E24F]\n\t(No symbol) [0x00007FF737566DB3]\n\t(No symbol) [0x00007FF73753D2B1]\n\t(No symbol) [0x00007FF73753E494]\n\tGetHandleVerifier [0x00007FF73796EF82+2849794]\n\tGetHandleVerifier [0x00007FF7379C1D24+3189156]\n\tGetHandleVerifier [0x00007FF7379BACAF+3160367]\n\tGetHandleVerifier [0x00007FF737756D06+653702]\n\t(No symbol) [0x00007FF73764A208]\n\t(No symbol) [0x00007FF7376462C4]\n\t(No symbol) [0x00007FF7376463F6]\n\t(No symbol) [0x00007FF7376367A3]\n\tBaseThreadInitThunk [0x00007FF83A58257D+29]\n\tRtlUserThreadStart [0x00007FF83AEAAA68+40]\n",
     "output_type": "error",
     "traceback": [
      "\u001b[1;31m---------------------------------------------------------------------------\u001b[0m",
      "\u001b[1;31mNoSuchWindowException\u001b[0m                     Traceback (most recent call last)",
      "Cell \u001b[1;32mIn[5], line 46\u001b[0m\n\u001b[0;32m     42\u001b[0m df \u001b[38;5;241m=\u001b[39m pd\u001b[38;5;241m.\u001b[39mDataFrame()\n\u001b[0;32m     44\u001b[0m \u001b[38;5;28;01mfor\u001b[39;00m libro \u001b[38;5;129;01min\u001b[39;00m librosPrueba:\n\u001b[1;32m---> 46\u001b[0m     driver\u001b[38;5;241m.\u001b[39mget(url)\n\u001b[0;32m     47\u001b[0m     time\u001b[38;5;241m.\u001b[39msleep(\u001b[38;5;241m5\u001b[39m)\n\u001b[0;32m     48\u001b[0m     element\u001b[38;5;241m=\u001b[39mdriver\u001b[38;5;241m.\u001b[39mfind_element(By\u001b[38;5;241m.\u001b[39mID,\u001b[38;5;124m\"\u001b[39m\u001b[38;5;124mmain-search-input\u001b[39m\u001b[38;5;124m\"\u001b[39m)\n",
      "File \u001b[1;32m~\\anaconda3\\Lib\\site-packages\\selenium\\webdriver\\remote\\webdriver.py:354\u001b[0m, in \u001b[0;36mWebDriver.get\u001b[1;34m(self, url)\u001b[0m\n\u001b[0;32m    352\u001b[0m \u001b[38;5;28;01mdef\u001b[39;00m \u001b[38;5;21mget\u001b[39m(\u001b[38;5;28mself\u001b[39m, url: \u001b[38;5;28mstr\u001b[39m) \u001b[38;5;241m-\u001b[39m\u001b[38;5;241m>\u001b[39m \u001b[38;5;28;01mNone\u001b[39;00m:\n\u001b[0;32m    353\u001b[0m \u001b[38;5;250m    \u001b[39m\u001b[38;5;124;03m\"\"\"Loads a web page in the current browser session.\"\"\"\u001b[39;00m\n\u001b[1;32m--> 354\u001b[0m     \u001b[38;5;28mself\u001b[39m\u001b[38;5;241m.\u001b[39mexecute(Command\u001b[38;5;241m.\u001b[39mGET, {\u001b[38;5;124m\"\u001b[39m\u001b[38;5;124murl\u001b[39m\u001b[38;5;124m\"\u001b[39m: url})\n",
      "File \u001b[1;32m~\\anaconda3\\Lib\\site-packages\\selenium\\webdriver\\remote\\webdriver.py:345\u001b[0m, in \u001b[0;36mWebDriver.execute\u001b[1;34m(self, driver_command, params)\u001b[0m\n\u001b[0;32m    343\u001b[0m response \u001b[38;5;241m=\u001b[39m \u001b[38;5;28mself\u001b[39m\u001b[38;5;241m.\u001b[39mcommand_executor\u001b[38;5;241m.\u001b[39mexecute(driver_command, params)\n\u001b[0;32m    344\u001b[0m \u001b[38;5;28;01mif\u001b[39;00m response:\n\u001b[1;32m--> 345\u001b[0m     \u001b[38;5;28mself\u001b[39m\u001b[38;5;241m.\u001b[39merror_handler\u001b[38;5;241m.\u001b[39mcheck_response(response)\n\u001b[0;32m    346\u001b[0m     response[\u001b[38;5;124m\"\u001b[39m\u001b[38;5;124mvalue\u001b[39m\u001b[38;5;124m\"\u001b[39m] \u001b[38;5;241m=\u001b[39m \u001b[38;5;28mself\u001b[39m\u001b[38;5;241m.\u001b[39m_unwrap_value(response\u001b[38;5;241m.\u001b[39mget(\u001b[38;5;124m\"\u001b[39m\u001b[38;5;124mvalue\u001b[39m\u001b[38;5;124m\"\u001b[39m, \u001b[38;5;28;01mNone\u001b[39;00m))\n\u001b[0;32m    347\u001b[0m     \u001b[38;5;28;01mreturn\u001b[39;00m response\n",
      "File \u001b[1;32m~\\anaconda3\\Lib\\site-packages\\selenium\\webdriver\\remote\\errorhandler.py:229\u001b[0m, in \u001b[0;36mErrorHandler.check_response\u001b[1;34m(self, response)\u001b[0m\n\u001b[0;32m    227\u001b[0m         alert_text \u001b[38;5;241m=\u001b[39m value[\u001b[38;5;124m\"\u001b[39m\u001b[38;5;124malert\u001b[39m\u001b[38;5;124m\"\u001b[39m]\u001b[38;5;241m.\u001b[39mget(\u001b[38;5;124m\"\u001b[39m\u001b[38;5;124mtext\u001b[39m\u001b[38;5;124m\"\u001b[39m)\n\u001b[0;32m    228\u001b[0m     \u001b[38;5;28;01mraise\u001b[39;00m exception_class(message, screen, stacktrace, alert_text)  \u001b[38;5;66;03m# type: ignore[call-arg]  # mypy is not smart enough here\u001b[39;00m\n\u001b[1;32m--> 229\u001b[0m \u001b[38;5;28;01mraise\u001b[39;00m exception_class(message, screen, stacktrace)\n",
      "\u001b[1;31mNoSuchWindowException\u001b[0m: Message: no such window: target window already closed\nfrom unknown error: web view not found\n  (Session info: chrome=116.0.5845.188)\nStacktrace:\n\tGetHandleVerifier [0x00007FF7376C52A2+57122]\n\t(No symbol) [0x00007FF73763EA92]\n\t(No symbol) [0x00007FF73750E3AB]\n\t(No symbol) [0x00007FF7374EE1B9]\n\t(No symbol) [0x00007FF73756B417]\n\t(No symbol) [0x00007FF73757E24F]\n\t(No symbol) [0x00007FF737566DB3]\n\t(No symbol) [0x00007FF73753D2B1]\n\t(No symbol) [0x00007FF73753E494]\n\tGetHandleVerifier [0x00007FF73796EF82+2849794]\n\tGetHandleVerifier [0x00007FF7379C1D24+3189156]\n\tGetHandleVerifier [0x00007FF7379BACAF+3160367]\n\tGetHandleVerifier [0x00007FF737756D06+653702]\n\t(No symbol) [0x00007FF73764A208]\n\t(No symbol) [0x00007FF7376462C4]\n\t(No symbol) [0x00007FF7376463F6]\n\t(No symbol) [0x00007FF7376367A3]\n\tBaseThreadInitThunk [0x00007FF83A58257D+29]\n\tRtlUserThreadStart [0x00007FF83AEAAA68+40]\n"
     ]
    }
   ],
   "source": [
    "import numpy as np\n",
    "import pandas as pd\n",
    "import requests\n",
    "from bs4 import BeautifulSoup\n",
    "from time import sleep\n",
    "from selenium import webdriver\n",
    "from selenium.webdriver.chrome.service import Service\n",
    "from selenium.webdriver.common.keys import Keys\n",
    "from selenium.webdriver.common.by import By\n",
    "from time import sleep\n",
    "import pymysql\n",
    "import time \n",
    "\n",
    "\n",
    "s = Service('C:/chromedriver.exe')\n",
    "driver = webdriver.Chrome(service=s)\n",
    "url = \"https://www.todostuslibros.com\"\n",
    "driver.get(url)\n",
    "\n",
    "\n",
    "try:\n",
    "    connection = pymysql.connect(host='localhost',user='root',password='Kojinanjo1@',db='pelis')\n",
    "    print(\"Conectado correctamente\")\n",
    "except pymysql.Error as e:\n",
    "    print(\"No puede conectar con MySQL %d: %s\" %(e.args[0], e.args[1]))\n",
    "\n",
    "cursor = connection.cursor()\n",
    "\n",
    "print(\"CONTINUEEEEEEEEEEEEEEEE\")\n",
    "\n",
    "\n",
    "\n",
    "titulo = []\n",
    "autor = []\n",
    "imagen = []\n",
    "sinopsis = []\n",
    "\n",
    "\n",
    "librosPrueba =[\"Origins - The Art of John Jude Palencar\",\"Orwell - Christin & Verdier\",\"Paco Roca - Los surcos del azar\",\"Palepoli\",\"Para Toda la Vida\",\"Tatuaje\",\"Piel de hombre\",\"Piel de Mil Bestias \",\"Pierres Rouges\",\"Posy Simmonds \",\"PRESAS F\\u00c1CILES  \",\"Puesta en marcha\",\"Les mers du Sud \",\"P\\u00e9riodique Pf\",\"Que alguien se acueste conmigo, por favor \",\"Que caiga el que deba\",\"Querida diablilla\",\"Rios de Londres \",\"Rapaces\",\"Regreso a Volver al Futuro \",\"Relatos del Gran Libro de John Lehti\",\"revista pulgarcito\",\"Reyerta en la Feria\",\"Sam Pezzo\",\"Scandalo!\",\"Selecciones V\\u00e9rtice\",\"All\\u00ed donde van nuestros padres\",\"SHAZAM!\"]; \n",
    "\n",
    "libros_no_encontrados= list()\n",
    "df = pd.DataFrame()\n",
    "\n",
    "for libro in librosPrueba:\n",
    "    \n",
    "    driver.get(url)\n",
    "    time.sleep(5)\n",
    "    element=driver.find_element(By.ID,\"main-search-input\")\n",
    "    element.send_keys(libro)\n",
    "    element.send_keys(Keys.ENTER)  \n",
    "    time.sleep(5)\n",
    "\n",
    "\n",
    "\n",
    "\n",
    "\n",
    "\n"
   ]
  },
  {
   "cell_type": "code",
   "execution_count": null,
   "id": "d5fb7244-a96a-4451-a629-175bd8782e72",
   "metadata": {},
   "outputs": [],
   "source": []
  },
  {
   "cell_type": "code",
   "execution_count": null,
   "id": "6eef1d2b-3244-4b54-a720-ace33a20c07b",
   "metadata": {},
   "outputs": [],
   "source": []
  }
 ],
 "metadata": {
  "kernelspec": {
   "display_name": "Python 3 (ipykernel)",
   "language": "python",
   "name": "python3"
  },
  "language_info": {
   "codemirror_mode": {
    "name": "ipython",
    "version": 3
   },
   "file_extension": ".py",
   "mimetype": "text/x-python",
   "name": "python",
   "nbconvert_exporter": "python",
   "pygments_lexer": "ipython3",
   "version": "3.11.3"
  }
 },
 "nbformat": 4,
 "nbformat_minor": 5
}
